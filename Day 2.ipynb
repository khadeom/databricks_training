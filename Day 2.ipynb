{
 "cells": [
  {
   "cell_type": "code",
   "execution_count": 0,
   "metadata": {
    "application/vnd.databricks.v1+cell": {
     "cellMetadata": {
      "byteLimit": 2048000,
      "rowLimit": 10000
     },
     "inputWidgets": {},
     "nuid": "44ee0537-36aa-49c8-8f87-a009ac7a53c5",
     "showTitle": false,
     "tableResultSettingsMap": {},
     "title": ""
    }
   },
   "outputs": [],
   "source": [
    "# Create a new table in the 'om' schema for transaction data\n",
    "# spark.sql(\"\"\"\n",
    "# CREATE TABLE jpm.om.transaction_data (\n",
    "#     transaction_id STRING,\n",
    "#     user_id STRING,\n",
    "#     amount DOUBLE,\n",
    "#     transaction_date DATE,\n",
    "#     status STRING\n",
    "# )\n",
    "# \"\"\")"
   ]
  },
  {
   "cell_type": "code",
   "execution_count": 0,
   "metadata": {
    "application/vnd.databricks.v1+cell": {
     "cellMetadata": {
      "byteLimit": 2048000,
      "rowLimit": 10000
     },
     "inputWidgets": {},
     "nuid": "836e52a8-64c1-40e5-a3a0-fd099f512327",
     "showTitle": false,
     "tableResultSettingsMap": {},
     "title": ""
    }
   },
   "outputs": [],
   "source": [
    "# Insert 2 transactions into the 'om.transaction_data' table\n",
    "spark.sql(\"\"\"\n",
    "INSERT INTO jpm.om.transaction_data (transaction_id, user_id, amount, transaction_date, status)\n",
    "VALUES\n",
    "    ('txn_001', 'user_001', 100.0, '2025-02-24', 'completed'),\n",
    "    ('txn_002', 'user_002', 150.0, '2025-02-25', 'pending')\n",
    "\"\"\")\n",
    "\n",
    "# Create a view for the first transaction\n",
    "spark.sql(\"\"\"\n",
    "CREATE OR REPLACE VIEW jpm.om.first_transaction AS\n",
    "SELECT *\n",
    "FROM jpm.om.transaction_data\n",
    "ORDER BY transaction_date\n",
    "LIMIT 1\n",
    "\"\"\")"
   ]
  },
  {
   "cell_type": "code",
   "execution_count": 0,
   "metadata": {
    "application/vnd.databricks.v1+cell": {
     "cellMetadata": {},
     "inputWidgets": {},
     "nuid": "73421b52-8faa-4b5b-b0c7-3565a4184bfa",
     "showTitle": false,
     "tableResultSettingsMap": {},
     "title": ""
    }
   },
   "outputs": [],
   "source": []
  }
 ],
 "metadata": {
  "application/vnd.databricks.v1+notebook": {
   "computePreferences": null,
   "dashboards": [],
   "environmentMetadata": {
    "base_environment": "",
    "environment_version": "2"
   },
   "language": "python",
   "notebookMetadata": {
    "pythonIndentUnit": 4
   },
   "notebookName": "Day 2",
   "widgets": {}
  },
  "language_info": {
   "name": "python"
  }
 },
 "nbformat": 4,
 "nbformat_minor": 0
}
