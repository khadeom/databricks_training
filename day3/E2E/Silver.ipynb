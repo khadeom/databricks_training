{
 "cells": [
  {
   "cell_type": "code",
   "execution_count": 0,
   "metadata": {
    "application/vnd.databricks.v1+cell": {
     "cellMetadata": {
      "byteLimit": 2048000,
      "rowLimit": 10000
     },
     "inputWidgets": {},
     "nuid": "5c078bff-d3ea-46f3-95ba-543ab43ce5a7",
     "showTitle": false,
     "tableResultSettingsMap": {},
     "title": ""
    }
   },
   "outputs": [],
   "source": [
    "%sql\n",
    "select * from jpm.om_bronze.customer_bronze limit 5"
   ]
  },
  {
   "cell_type": "code",
   "execution_count": 0,
   "metadata": {
    "application/vnd.databricks.v1+cell": {
     "cellMetadata": {
      "byteLimit": 2048000,
      "rowLimit": 10000
     },
     "inputWidgets": {},
     "nuid": "77a0e096-f3f2-4678-b8e7-6b0942142119",
     "showTitle": false,
     "tableResultSettingsMap": {},
     "title": ""
    }
   },
   "outputs": [],
   "source": [
    "df = spark.read.table(\"jpm.om_silver.silver_customer\")\n",
    "df.display()\n"
   ]
  },
  {
   "cell_type": "code",
   "execution_count": 0,
   "metadata": {
    "application/vnd.databricks.v1+cell": {
     "cellMetadata": {
      "byteLimit": 2048000,
      "rowLimit": 10000
     },
     "inputWidgets": {},
     "nuid": "34d26331-7903-4f94-b9fe-ca0cff30b217",
     "showTitle": false,
     "tableResultSettingsMap": {},
     "title": ""
    }
   },
   "outputs": [],
   "source": [
    "df2 = df.withColumn(\"birthday\", df[\"birthday\"].cast(\"date\"))"
   ]
  },
  {
   "cell_type": "code",
   "execution_count": 0,
   "metadata": {
    "application/vnd.databricks.v1+cell": {
     "cellMetadata": {
      "byteLimit": 2048000,
      "rowLimit": 10000
     },
     "inputWidgets": {},
     "nuid": "b43898af-624f-4cba-bfd7-73154ea8ab1b",
     "showTitle": false,
     "tableResultSettingsMap": {},
     "title": ""
    }
   },
   "outputs": [],
   "source": [
    "null_birthday_df = df.filter(df[\"birthday\"].isNull())\n",
    "# display(null_birthday_df)\n",
    "from pyspark.sql.functions import trim, to_date, date_format\n",
    "\n",
    "df = df.withColumn(\"birthday\", trim(df[\"birthday\"]))\n",
    "display(df)\n",
    "\n",
    "# df2 = df.withColumn(\"birthday\", df[\"birthday\"].cast(\"date\"))\n",
    "df2 = df.withColumn(\"birthday\", date_format(to_date(df[\"birthday\"], \"MM/dd/yyyy\"), \"dd/MM/yyyy\"))\n",
    "display(df2)"
   ]
  },
  {
   "cell_type": "code",
   "execution_count": 0,
   "metadata": {
    "application/vnd.databricks.v1+cell": {
     "cellMetadata": {
      "byteLimit": 2048000,
      "rowLimit": 10000
     },
     "inputWidgets": {},
     "nuid": "b328fea7-195f-486b-a735-e7b0099013e2",
     "showTitle": false,
     "tableResultSettingsMap": {},
     "title": ""
    }
   },
   "outputs": [],
   "source": [
    "df.display()"
   ]
  },
  {
   "cell_type": "code",
   "execution_count": 0,
   "metadata": {
    "application/vnd.databricks.v1+cell": {
     "cellMetadata": {
      "byteLimit": 2048000,
      "implicitDf": true,
      "rowLimit": 10000
     },
     "inputWidgets": {},
     "nuid": "31f78946-17d3-4ee2-a798-96e2f5abe22f",
     "showTitle": false,
     "tableResultSettingsMap": {},
     "title": ""
    }
   },
   "outputs": [],
   "source": [
    "%sql\n",
    "CREATE OR REPLACE TABLE jpm.om_silver.silver_customer AS\n",
    "SELECT\n",
    "    cust_id,\n",
    "    name,\n",
    "    CAST(age AS INT) AS age,\n",
    "    gender,\n",
    "    -- CAST(birthday AS DATE) AS birthday,\n",
    "    birthday,\n",
    "    cast(zip as int) as zip,\n",
    "    REPLACE(city, '_', ' ') AS city\n",
    "FROM jpm.om_bronze.customer_bronze;\n"
   ]
  },
  {
   "cell_type": "code",
   "execution_count": 0,
   "metadata": {
    "application/vnd.databricks.v1+cell": {
     "cellMetadata": {
      "byteLimit": 2048000,
      "rowLimit": 10000
     },
     "inputWidgets": {},
     "nuid": "70291783-fdb4-4816-bc57-c16ae5afdd2f",
     "showTitle": false,
     "tableResultSettingsMap": {},
     "title": ""
    }
   },
   "outputs": [],
   "source": [
    "%sql\n",
    "select * from jpm.om_silver.silver_customer limit 5"
   ]
  },
  {
   "cell_type": "code",
   "execution_count": 0,
   "metadata": {
    "application/vnd.databricks.v1+cell": {
     "cellMetadata": {
      "byteLimit": 2048000,
      "implicitDf": true,
      "rowLimit": 10000
     },
     "inputWidgets": {},
     "nuid": "6dfb2a8a-2505-445f-81d9-8558bc48890a",
     "showTitle": false,
     "tableResultSettingsMap": {},
     "title": ""
    }
   },
   "outputs": [],
   "source": [
    "%sql\n",
    "create or replace table jpm.om_silver.silver_transaction as\n",
    "select * from jpm.naval_silver.silver_transaction"
   ]
  },
  {
   "cell_type": "code",
   "execution_count": 0,
   "metadata": {
    "application/vnd.databricks.v1+cell": {
     "cellMetadata": {
      "byteLimit": 2048000,
      "rowLimit": 10000
     },
     "inputWidgets": {},
     "nuid": "6509cdcb-f691-481e-8b5e-178dedccaea0",
     "showTitle": false,
     "tableResultSettingsMap": {},
     "title": ""
    }
   },
   "outputs": [],
   "source": [
    "df.createGlobalTempView(\"my_view\")"
   ]
  },
  {
   "cell_type": "code",
   "execution_count": 0,
   "metadata": {
    "application/vnd.databricks.v1+cell": {
     "cellMetadata": {},
     "inputWidgets": {},
     "nuid": "b39ee927-b720-4842-a63a-9a3a2b33eeea",
     "showTitle": false,
     "tableResultSettingsMap": {},
     "title": ""
    }
   },
   "outputs": [],
   "source": [
    "# To ignore specific cells when running a notebook in a workflow, you can use the following approach:\n",
    "# Add a comment at the beginning of the cells you want to ignore, and check for that comment before executing.\n",
    "\n",
    "# Example of how to check for a comment and skip execution\n",
    "def should_run_cell(cell_content):\n",
    "    return not cell_content.startswith(\"# IGNORE\")\n",
    "\n",
    "# Assuming you have a list of cell contents\n",
    "cell_contents = [\n",
    "    \"# IGNORE This cell will be skipped\",\n",
    "    \"df.createGlobalTempView('my_view')\",\n",
    "    \"# This cell will run\",\n",
    "    \"result = df.count()\"\n",
    "]\n",
    "\n",
    "for content in cell_contents:\n",
    "    if should_run_cell(content):\n",
    "        exec(content)  # Execute the cell content if it should run"
   ]
  }
 ],
 "metadata": {
  "application/vnd.databricks.v1+notebook": {
   "computePreferences": null,
   "dashboards": [],
   "environmentMetadata": {
    "base_environment": "",
    "environment_version": "2"
   },
   "language": "python",
   "notebookMetadata": {
    "mostRecentlyExecutedCommandWithImplicitDF": {
     "commandId": 3448047224999509,
     "dataframes": [
      "_sqldf"
     ]
    },
    "pythonIndentUnit": 4
   },
   "notebookName": "Silver",
   "widgets": {}
  },
  "language_info": {
   "name": "python"
  }
 },
 "nbformat": 4,
 "nbformat_minor": 0
}
